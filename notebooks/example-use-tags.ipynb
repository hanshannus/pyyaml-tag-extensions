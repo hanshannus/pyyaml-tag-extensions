{
 "cells": [
  {
   "attachments": {},
   "cell_type": "markdown",
   "metadata": {},
   "source": [
    "# YAML Tag Extensions"
   ]
  },
  {
   "cell_type": "code",
   "execution_count": 1,
   "metadata": {},
   "outputs": [],
   "source": [
    "from pathlib import Path\n",
    "import sys\n",
    "sys.path.insert(0, str(Path(\"..\").resolve()))\n",
    "import yamx"
   ]
  },
  {
   "attachments": {},
   "cell_type": "markdown",
   "metadata": {},
   "source": [
    "## Tag: !env\n",
    "\n",
    "Load environmental variables using this tag. The variables are automatically cast to `int`, `float`, or `str`. Use quotes (`'` or `\"`) to prevent this behavior."
   ]
  },
  {
   "cell_type": "code",
   "execution_count": 3,
   "metadata": {},
   "outputs": [
    {
     "name": "stdout",
     "output_type": "stream",
     "text": [
      "env: VAR=\"1.23e02\"\n",
      "int failed\n",
      "float failed\n",
      "{'var': '1.23e02'}\n",
      "env: VAR=1.23e02\n",
      "int failed\n",
      "{'var': 123.0}\n"
     ]
    }
   ],
   "source": [
    "%env VAR=\"1.23e02\"\n",
    "print(yamx.loads(\"var: !env:VAR\"))\n",
    "%env VAR=1.23e02\n",
    "print(yamx.loads(\"var: !env:VAR\"))"
   ]
  },
  {
   "attachments": {},
   "cell_type": "markdown",
   "metadata": {},
   "source": [
    "## Tag: !from\n",
    "\n",
    "Parts or whole other config files can be inserting using the `!from:` tag.\n",
    "\n",
    "The string that follows the tag is referred to as \"navigation string\".\n",
    "A navigation string must contain the absolute or relative path to a configuration file. An absolute path is headed by `/`, e.g.:\n",
    "- absolute: `/this/path/is/absolute.yaml`\n",
    "- relative: `this/path/is/relative.yaml`\n",
    "\n",
    "Optionally, a navigation path can include a \"tree\" navigation that points to a value inside a config file. Let `/path/to/dir/filename.yaml` be the absolute path to a configurations file with the content:\n",
    "\n",
    "```yaml\n",
    "navigate:\n",
    "  to: \n",
    "    value: 0\n",
    "```\n",
    "\n",
    "The `0` can be retrieved by appending `navigate/to/value` to the file path: `path/to/dir/filename.yaml/navigate/to/value`.\n",
    "\n",
    "YAML extensions can be omitted inside the navigation string, so that the following examples are equal:\n",
    "- `path/to/dir/filename.yaml/navigate/to/value`\n",
    "- `path/to/dir/filename/navigate/to/value`\n",
    "\n",
    "The following example provides a summary of the steps that are performed to parse the tag: `!from:path/to/dir/filename/navigate/to/value`.\n",
    "\n",
    "1. get navigation string: `path/to/dir/filename/navigate/to/value`\n",
    "2. find information:\n",
    "    - directory: `path/to/dir`\n",
    "    - filename: `filename.yaml` (the `.yaml` extension is found automatically)\n",
    "    - tree: `[\"navigate\", \"to\", \"value\"]`\n",
    "3. load file `path/to/dir/filename.yaml`\n",
    "4. use tree values to navigate to value\n",
    "\n",
    "### Example 1: Automatically find extensions"
   ]
  },
  {
   "cell_type": "code",
   "execution_count": null,
   "metadata": {},
   "outputs": [],
   "source": [
    "%%writefile constants.yaml\n",
    "value: 123\n",
    "list:\n",
    "  - 0\n",
    "  - \n",
    "    - 1\n",
    "    - 2"
   ]
  },
  {
   "cell_type": "code",
   "execution_count": null,
   "metadata": {},
   "outputs": [],
   "source": [
    "file_text = \"\"\"\\\n",
    "- !from:constants.yaml\n",
    "- !from:constants\n",
    "\"\"\"\n",
    "\n",
    "yamx.loads(file_text)"
   ]
  },
  {
   "attachments": {},
   "cell_type": "markdown",
   "metadata": {},
   "source": [
    "### Example 2: Load value from child config file into the parent config"
   ]
  },
  {
   "cell_type": "code",
   "execution_count": null,
   "metadata": {},
   "outputs": [],
   "source": [
    "file_text = \"\"\"\\\n",
    "map: \n",
    "  !from:constants/value\n",
    "\"\"\"\n",
    "\n",
    "yamx.loads(file_text)"
   ]
  },
  {
   "attachments": {},
   "cell_type": "markdown",
   "metadata": {},
   "source": [
    "### Example 3: Navigating child config file tree with sequence elements"
   ]
  },
  {
   "cell_type": "code",
   "execution_count": null,
   "metadata": {},
   "outputs": [],
   "source": [
    "file_text = \"\"\"\\\n",
    "!from:constants/list       # insert complete list: [0, [1, 2]]\n",
    "- !from:constants/value    # insert a value: 123\n",
    "- !from:constants/list/1/0 # access list element: 1\n",
    "\"\"\"\n",
    "\n",
    "yamx.loads(file_text)"
   ]
  },
  {
   "attachments": {},
   "cell_type": "markdown",
   "metadata": {},
   "source": [
    "## Tag: !import\n",
    "\n",
    "Define a demo class in `module.py` so that it can be imported."
   ]
  },
  {
   "cell_type": "code",
   "execution_count": null,
   "metadata": {},
   "outputs": [],
   "source": [
    "%%writefile example_module.py\n",
    "class ExampleClass:\n",
    "    text = \"I am not initialized.\"\n",
    "    def __init__(self, *args, value=\"default\", **kwargs):\n",
    "        print(\"init ExampleClass with\", args, kwargs)\n",
    "        self.value = value\n",
    "        self.text = \"I am initialized.\"\n",
    "\n",
    "    def set_value(self, value=None):\n",
    "        if value is not None:\n",
    "            self.value = value\n",
    "        print(\"call self.set_value with\", value)\n",
    "        return self\n",
    "\n",
    "    @classmethod\n",
    "    def from_example(cls, value):\n",
    "        print(\"call DemoClass.from_example with\", value)\n",
    "        return cls"
   ]
  },
  {
   "cell_type": "code",
   "execution_count": null,
   "metadata": {},
   "outputs": [],
   "source": [
    "file_text = \"\"\"\\\n",
    "class: !import:example_module.ExampleClass\n",
    "\"\"\"\n",
    "\n",
    "my_class = yamx.loads(file_text)[\"class\"]\n",
    "my_class.text"
   ]
  },
  {
   "attachments": {},
   "cell_type": "markdown",
   "metadata": {},
   "source": [
    "## Tag: !init"
   ]
  },
  {
   "cell_type": "code",
   "execution_count": null,
   "metadata": {},
   "outputs": [],
   "source": [
    "file_text = \"\"\"\\\n",
    "class: !init:example_module.ExampleClass\n",
    "\"\"\"\n",
    "\n",
    "my_class = yamx.loads(file_text)[\"class\"]\n",
    "my_class.text"
   ]
  },
  {
   "cell_type": "code",
   "execution_count": null,
   "metadata": {},
   "outputs": [],
   "source": [
    "file_text = \"\"\"\\\n",
    "class: !init:example_module.ExampleClass\n",
    "- arg0\n",
    "- arg1\n",
    "- kwarg0: 0\n",
    "- kwarg1: 1\n",
    "\"\"\"\n",
    "\n",
    "my_class = yamx.loads(file_text)[\"class\"]\n",
    "my_class.text"
   ]
  },
  {
   "attachments": {},
   "cell_type": "markdown",
   "metadata": {},
   "source": [
    "## Tag: !chain with !call"
   ]
  },
  {
   "cell_type": "code",
   "execution_count": null,
   "metadata": {},
   "outputs": [],
   "source": [
    "file_text = \"\"\"\\\n",
    "value:\n",
    "  !chain\n",
    "  - !init:example_module.ExampleClass\n",
    "  - !call:set_value\n",
    "    - 123\n",
    "  - !call:value\n",
    "\"\"\"\n",
    "\n",
    "yamx.loads(file_text)"
   ]
  },
  {
   "cell_type": "code",
   "execution_count": null,
   "metadata": {},
   "outputs": [],
   "source": [
    "file_text = \"\"\"\\\n",
    "class:\n",
    "  !chain\n",
    "  - !import:example_module.ExampleClass\n",
    "  - !call:from_example\n",
    "    - 123\n",
    "\"\"\"\n",
    "\n",
    "my_class = yamx.loads(file_text)[\"class\"]\n",
    "my_class.text"
   ]
  },
  {
   "cell_type": "code",
   "execution_count": null,
   "metadata": {},
   "outputs": [],
   "source": []
  }
 ],
 "metadata": {
  "kernelspec": {
   "display_name": "yates-wlmZJSG8-py3.9",
   "language": "python",
   "name": "python3"
  },
  "language_info": {
   "codemirror_mode": {
    "name": "ipython",
    "version": 3
   },
   "file_extension": ".py",
   "mimetype": "text/x-python",
   "name": "python",
   "nbconvert_exporter": "python",
   "pygments_lexer": "ipython3",
   "version": "3.9.10"
  },
  "orig_nbformat": 4,
  "vscode": {
   "interpreter": {
    "hash": "2e1855b52689babcb0feb798d63392c10492ef580cf78cfe8f83a73f472d4ff3"
   }
  }
 },
 "nbformat": 4,
 "nbformat_minor": 2
}
