{
 "cells": [
  {
   "attachments": {},
   "cell_type": "markdown",
   "metadata": {},
   "source": [
    "# YAML Tag Extensions"
   ]
  },
  {
   "cell_type": "code",
   "execution_count": 1,
   "metadata": {},
   "outputs": [],
   "source": [
    "from pathlib import Path\n",
    "import sys\n",
    "sys.path.insert(0, str(Path(\"..\").resolve()))\n",
    "import yamx"
   ]
  },
  {
   "attachments": {},
   "cell_type": "markdown",
   "metadata": {},
   "source": [
    "## Tag: !env\n",
    "\n",
    "Load environmental variables using this tag. The variables are automatically cast to `int`, `float`, or `str`. Use quotes (`'` or `\"`) to prevent this behavior."
   ]
  },
  {
   "cell_type": "code",
   "execution_count": 2,
   "metadata": {},
   "outputs": [
    {
     "name": "stdout",
     "output_type": "stream",
     "text": [
      "env: VAR=\"1.23e02\"\n",
      "{'var': '1.23e02'}\n",
      "env: VAR=1.23e02\n",
      "{'var': 123.0}\n"
     ]
    }
   ],
   "source": [
    "%env VAR=\"1.23e02\"\n",
    "print(yamx.loads(\"var: !env:VAR\"))\n",
    "%env VAR=1.23e02\n",
    "print(yamx.loads(\"var: !env:VAR\"))"
   ]
  },
  {
   "attachments": {},
   "cell_type": "markdown",
   "metadata": {},
   "source": [
    "## Tag: !from\n",
    "\n",
    "Parts or whole other config files can be inserting using the `!from:` tag.\n",
    "\n",
    "The string that follows the tag is referred to as \"navigation string\".\n",
    "A navigation string must contain the absolute or relative path to a configuration file. An absolute path is headed by `/`, e.g.:\n",
    "- absolute: `/this/path/is/absolute.yaml`\n",
    "- relative: `this/path/is/relative.yaml`\n",
    "\n",
    "Optionally, a navigation path can include a \"tree\" navigation that points to a value inside a config file. Let `/path/to/dir/filename.yaml` be the absolute path to a configurations file with the content:\n",
    "\n",
    "```yaml\n",
    "navigate:\n",
    "  to: \n",
    "    value: 0\n",
    "```\n",
    "\n",
    "The `0` can be retrieved by appending `navigate/to/value` to the file path: `path/to/dir/filename.yaml/navigate/to/value`.\n",
    "\n",
    "YAML extensions can be omitted inside the navigation string, so that the following examples are equal:\n",
    "- `path/to/dir/filename.yaml/navigate/to/value`\n",
    "- `path/to/dir/filename/navigate/to/value`\n",
    "\n",
    "The following example provides a summary of the steps that are performed to parse the tag: `!from:path/to/dir/filename/navigate/to/value`.\n",
    "\n",
    "1. get navigation string: `path/to/dir/filename/navigate/to/value`\n",
    "2. find information:\n",
    "    - directory: `path/to/dir`\n",
    "    - filename: `filename.yaml` (the `.yaml` extension is found automatically)\n",
    "    - tree: `[\"navigate\", \"to\", \"value\"]`\n",
    "3. load file `path/to/dir/filename.yaml`\n",
    "4. use tree values to navigate to value\n",
    "\n",
    "### Example 1: Automatically find extensions"
   ]
  },
  {
   "cell_type": "code",
   "execution_count": 3,
   "metadata": {},
   "outputs": [
    {
     "name": "stdout",
     "output_type": "stream",
     "text": [
      "Overwriting constants.yaml\n"
     ]
    }
   ],
   "source": [
    "%%writefile constants.yaml\n",
    "value: 123\n",
    "list:\n",
    "  - 0\n",
    "  - \n",
    "    - 1\n",
    "    - 2"
   ]
  },
  {
   "cell_type": "code",
   "execution_count": 4,
   "metadata": {},
   "outputs": [
    {
     "data": {
      "text/plain": [
       "[{'value': 123, 'list': [0, [1, 2]]}, {'value': 123, 'list': [0, [1, 2]]}]"
      ]
     },
     "execution_count": 4,
     "metadata": {},
     "output_type": "execute_result"
    }
   ],
   "source": [
    "file_text = \"\"\"\\\n",
    "- !from:constants.yaml\n",
    "- !from:constants\n",
    "\"\"\"\n",
    "yamx.loads(file_text)"
   ]
  },
  {
   "attachments": {},
   "cell_type": "markdown",
   "metadata": {},
   "source": [
    "### Example 2: Load value from child config file into the parent config"
   ]
  },
  {
   "cell_type": "code",
   "execution_count": 5,
   "metadata": {},
   "outputs": [
    {
     "data": {
      "text/plain": [
       "{'map': 123}"
      ]
     },
     "execution_count": 5,
     "metadata": {},
     "output_type": "execute_result"
    }
   ],
   "source": [
    "file_text = \"\"\"\\\n",
    "map: \n",
    "  !from:constants/value\n",
    "\"\"\"\n",
    "yamx.loads(file_text)"
   ]
  },
  {
   "attachments": {},
   "cell_type": "markdown",
   "metadata": {},
   "source": [
    "### Example 3: Navigating child config file tree with sequence elements"
   ]
  },
  {
   "cell_type": "code",
   "execution_count": 6,
   "metadata": {},
   "outputs": [
    {
     "data": {
      "text/plain": [
       "[0, [1, 2], 123, 1]"
      ]
     },
     "execution_count": 6,
     "metadata": {},
     "output_type": "execute_result"
    }
   ],
   "source": [
    "file_text = \"\"\"\\\n",
    "!from:constants/list       # insert complete list: [0, [1, 2]]\n",
    "- !from:constants/value    # insert a value: 123\n",
    "- !from:constants/list/1/0 # access list element: 1\n",
    "\"\"\"\n",
    "yamx.loads(file_text)"
   ]
  },
  {
   "attachments": {},
   "cell_type": "markdown",
   "metadata": {},
   "source": [
    "## Tag: !import\n",
    "\n",
    "Define a demo class in `module.py` so that it can be imported."
   ]
  },
  {
   "cell_type": "code",
   "execution_count": 7,
   "metadata": {},
   "outputs": [
    {
     "name": "stdout",
     "output_type": "stream",
     "text": [
      "Overwriting example_module.py\n"
     ]
    }
   ],
   "source": [
    "%%writefile example_module.py\n",
    "class ExampleClass:\n",
    "    text = \"I am not initialized.\"\n",
    "    \n",
    "    def __init__(self, *args, value=\"default\", **kwargs):\n",
    "        print(\"init ExampleClass with\", args, kwargs)\n",
    "        self.value = value\n",
    "        self.text = \"I am initialized.\"\n",
    "\n",
    "    def set_value(self, value=None):\n",
    "        if value is not None:\n",
    "            self.value = value\n",
    "        print(\"call self.set_value with\", value)\n",
    "        return self\n",
    "\n",
    "    @classmethod\n",
    "    def from_example(cls, value):\n",
    "        print(\"call DemoClass.from_example with\", value)\n",
    "        return cls"
   ]
  },
  {
   "cell_type": "code",
   "execution_count": 8,
   "metadata": {},
   "outputs": [
    {
     "ename": "UnsupportedValueType",
     "evalue": "Value 'ExampleClass' is not a supported primitive type\n    full_key: class\n    object_type=dict",
     "output_type": "error",
     "traceback": [
      "\u001b[0;31m---------------------------------------------------------------------------\u001b[0m",
      "\u001b[0;31mUnsupportedValueType\u001b[0m                      Traceback (most recent call last)",
      "Cell \u001b[0;32mIn[8], line 4\u001b[0m\n\u001b[1;32m      1\u001b[0m file_text \u001b[39m=\u001b[39m \u001b[39m\"\"\"\u001b[39m\u001b[39m\\\u001b[39;00m\n\u001b[1;32m      2\u001b[0m \u001b[39mclass: !import:example_module.ExampleClass\u001b[39m\n\u001b[1;32m      3\u001b[0m \u001b[39m\"\"\"\u001b[39m\n\u001b[0;32m----> 4\u001b[0m my_class \u001b[39m=\u001b[39m yamx\u001b[39m.\u001b[39;49mloads(file_text)[\u001b[39m\"\u001b[39m\u001b[39mclass\u001b[39m\u001b[39m\"\u001b[39m]\n\u001b[1;32m      5\u001b[0m my_class\u001b[39m.\u001b[39mtext\n",
      "File \u001b[0;32m~/Dropbox/Repos/pyyaml-tag-extensions/yamx/core.py:22\u001b[0m, in \u001b[0;36mloads\u001b[0;34m(stream, root)\u001b[0m\n\u001b[1;32m     18\u001b[0m \u001b[39mdef\u001b[39;00m \u001b[39mloads\u001b[39m(\n\u001b[1;32m     19\u001b[0m     stream: Union[\u001b[39mstr\u001b[39m, IO],\n\u001b[1;32m     20\u001b[0m     root\u001b[39m=\u001b[39m\u001b[39m\"\u001b[39m\u001b[39mglobal\u001b[39m\u001b[39m\"\u001b[39m,\n\u001b[1;32m     21\u001b[0m ) \u001b[39m-\u001b[39m\u001b[39m>\u001b[39m Union[DictConfig, ListConfig]:\n\u001b[0;32m---> 22\u001b[0m     \u001b[39mreturn\u001b[39;00m Yaml\u001b[39m.\u001b[39;49mloads(stream, root\u001b[39m=\u001b[39;49mroot)\n",
      "File \u001b[0;32m~/Dropbox/Repos/pyyaml-tag-extensions/yamx/core.py:60\u001b[0m, in \u001b[0;36mYaml.loads\u001b[0;34m(cls, stream, root)\u001b[0m\n\u001b[1;32m     58\u001b[0m res \u001b[39m=\u001b[39m yaml\u001b[39m.\u001b[39mload(stream, Loader\u001b[39m=\u001b[39mnew_loader)\n\u001b[1;32m     59\u001b[0m \u001b[39mif\u001b[39;00m \u001b[39misinstance\u001b[39m(res, \u001b[39mdict\u001b[39m):\n\u001b[0;32m---> 60\u001b[0m     \u001b[39mreturn\u001b[39;00m DictConfig(res)\n\u001b[1;32m     61\u001b[0m \u001b[39melif\u001b[39;00m \u001b[39misinstance\u001b[39m(res, \u001b[39mlist\u001b[39m):\n\u001b[1;32m     62\u001b[0m     \u001b[39mreturn\u001b[39;00m ListConfig(res)\n",
      "File \u001b[0;32m~/.cache/pypoetry/virtualenvs/anomalib-cloud-wHtLq50J-py3.9/lib/python3.9/site-packages/omegaconf/dictconfig.py:111\u001b[0m, in \u001b[0;36mDictConfig.__init__\u001b[0;34m(self, content, key, parent, ref_type, key_type, element_type, is_optional, flags)\u001b[0m\n\u001b[1;32m    109\u001b[0m         \u001b[39mself\u001b[39m\u001b[39m.\u001b[39m_set_value(content, flags\u001b[39m=\u001b[39mflags)\n\u001b[1;32m    110\u001b[0m \u001b[39mexcept\u001b[39;00m \u001b[39mException\u001b[39;00m \u001b[39mas\u001b[39;00m ex:\n\u001b[0;32m--> 111\u001b[0m     format_and_raise(node\u001b[39m=\u001b[39;49m\u001b[39mNone\u001b[39;49;00m, key\u001b[39m=\u001b[39;49mkey, value\u001b[39m=\u001b[39;49m\u001b[39mNone\u001b[39;49;00m, cause\u001b[39m=\u001b[39;49mex, msg\u001b[39m=\u001b[39;49m\u001b[39mstr\u001b[39;49m(ex))\n",
      "File \u001b[0;32m~/.cache/pypoetry/virtualenvs/anomalib-cloud-wHtLq50J-py3.9/lib/python3.9/site-packages/omegaconf/_utils.py:819\u001b[0m, in \u001b[0;36mformat_and_raise\u001b[0;34m(node, key, value, msg, cause, type_override)\u001b[0m\n\u001b[1;32m    817\u001b[0m         ex \u001b[39m=\u001b[39m type_override(\u001b[39mstr\u001b[39m(cause))\n\u001b[1;32m    818\u001b[0m         ex\u001b[39m.\u001b[39m\u001b[39m__dict__\u001b[39m \u001b[39m=\u001b[39m copy\u001b[39m.\u001b[39mdeepcopy(cause\u001b[39m.\u001b[39m\u001b[39m__dict__\u001b[39m)\n\u001b[0;32m--> 819\u001b[0m     _raise(ex, cause)\n\u001b[1;32m    821\u001b[0m object_type: Optional[Type[Any]]\n\u001b[1;32m    822\u001b[0m object_type_str: Optional[\u001b[39mstr\u001b[39m] \u001b[39m=\u001b[39m \u001b[39mNone\u001b[39;00m\n",
      "File \u001b[0;32m~/.cache/pypoetry/virtualenvs/anomalib-cloud-wHtLq50J-py3.9/lib/python3.9/site-packages/omegaconf/_utils.py:797\u001b[0m, in \u001b[0;36m_raise\u001b[0;34m(ex, cause)\u001b[0m\n\u001b[1;32m    795\u001b[0m \u001b[39melse\u001b[39;00m:\n\u001b[1;32m    796\u001b[0m     ex\u001b[39m.\u001b[39m__cause__ \u001b[39m=\u001b[39m \u001b[39mNone\u001b[39;00m\n\u001b[0;32m--> 797\u001b[0m \u001b[39mraise\u001b[39;00m ex\u001b[39m.\u001b[39mwith_traceback(sys\u001b[39m.\u001b[39mexc_info()[\u001b[39m2\u001b[39m])\n",
      "File \u001b[0;32m~/.cache/pypoetry/virtualenvs/anomalib-cloud-wHtLq50J-py3.9/lib/python3.9/site-packages/omegaconf/dictconfig.py:109\u001b[0m, in \u001b[0;36mDictConfig.__init__\u001b[0;34m(self, content, key, parent, ref_type, key_type, element_type, is_optional, flags)\u001b[0m\n\u001b[1;32m    107\u001b[0m             metadata\u001b[39m.\u001b[39mkey_type \u001b[39m=\u001b[39m key_type\n\u001b[1;32m    108\u001b[0m             \u001b[39mself\u001b[39m\u001b[39m.\u001b[39m\u001b[39m__dict__\u001b[39m[\u001b[39m\"\u001b[39m\u001b[39m_metadata\u001b[39m\u001b[39m\"\u001b[39m] \u001b[39m=\u001b[39m metadata\n\u001b[0;32m--> 109\u001b[0m         \u001b[39mself\u001b[39;49m\u001b[39m.\u001b[39;49m_set_value(content, flags\u001b[39m=\u001b[39;49mflags)\n\u001b[1;32m    110\u001b[0m \u001b[39mexcept\u001b[39;00m \u001b[39mException\u001b[39;00m \u001b[39mas\u001b[39;00m ex:\n\u001b[1;32m    111\u001b[0m     format_and_raise(node\u001b[39m=\u001b[39m\u001b[39mNone\u001b[39;00m, key\u001b[39m=\u001b[39mkey, value\u001b[39m=\u001b[39m\u001b[39mNone\u001b[39;00m, cause\u001b[39m=\u001b[39mex, msg\u001b[39m=\u001b[39m\u001b[39mstr\u001b[39m(ex))\n",
      "File \u001b[0;32m~/.cache/pypoetry/virtualenvs/anomalib-cloud-wHtLq50J-py3.9/lib/python3.9/site-packages/omegaconf/dictconfig.py:647\u001b[0m, in \u001b[0;36mDictConfig._set_value\u001b[0;34m(self, value, flags)\u001b[0m\n\u001b[1;32m    645\u001b[0m \u001b[39mexcept\u001b[39;00m \u001b[39mException\u001b[39;00m \u001b[39mas\u001b[39;00m e:\n\u001b[1;32m    646\u001b[0m     \u001b[39mself\u001b[39m\u001b[39m.\u001b[39m\u001b[39m__dict__\u001b[39m[\u001b[39m\"\u001b[39m\u001b[39m_content\u001b[39m\u001b[39m\"\u001b[39m] \u001b[39m=\u001b[39m previous_content\n\u001b[0;32m--> 647\u001b[0m     \u001b[39mraise\u001b[39;00m e\n",
      "File \u001b[0;32m~/.cache/pypoetry/virtualenvs/anomalib-cloud-wHtLq50J-py3.9/lib/python3.9/site-packages/omegaconf/dictconfig.py:644\u001b[0m, in \u001b[0;36mDictConfig._set_value\u001b[0;34m(self, value, flags)\u001b[0m\n\u001b[1;32m    642\u001b[0m \u001b[39mtry\u001b[39;00m:\n\u001b[1;32m    643\u001b[0m     previous_content \u001b[39m=\u001b[39m \u001b[39mself\u001b[39m\u001b[39m.\u001b[39m\u001b[39m__dict__\u001b[39m[\u001b[39m\"\u001b[39m\u001b[39m_content\u001b[39m\u001b[39m\"\u001b[39m]\n\u001b[0;32m--> 644\u001b[0m     \u001b[39mself\u001b[39;49m\u001b[39m.\u001b[39;49m_set_value_impl(value, flags)\n\u001b[1;32m    645\u001b[0m \u001b[39mexcept\u001b[39;00m \u001b[39mException\u001b[39;00m \u001b[39mas\u001b[39;00m e:\n\u001b[1;32m    646\u001b[0m     \u001b[39mself\u001b[39m\u001b[39m.\u001b[39m\u001b[39m__dict__\u001b[39m[\u001b[39m\"\u001b[39m\u001b[39m_content\u001b[39m\u001b[39m\"\u001b[39m] \u001b[39m=\u001b[39m previous_content\n",
      "File \u001b[0;32m~/.cache/pypoetry/virtualenvs/anomalib-cloud-wHtLq50J-py3.9/lib/python3.9/site-packages/omegaconf/dictconfig.py:690\u001b[0m, in \u001b[0;36mDictConfig._set_value_impl\u001b[0;34m(self, value, flags)\u001b[0m\n\u001b[1;32m    688\u001b[0m     \u001b[39mwith\u001b[39;00m flag_override(\u001b[39mself\u001b[39m, [\u001b[39m\"\u001b[39m\u001b[39mstruct\u001b[39m\u001b[39m\"\u001b[39m, \u001b[39m\"\u001b[39m\u001b[39mreadonly\u001b[39m\u001b[39m\"\u001b[39m], \u001b[39mFalse\u001b[39;00m):\n\u001b[1;32m    689\u001b[0m         \u001b[39mfor\u001b[39;00m k, v \u001b[39min\u001b[39;00m value\u001b[39m.\u001b[39mitems():\n\u001b[0;32m--> 690\u001b[0m             \u001b[39mself\u001b[39;49m\u001b[39m.\u001b[39;49m\u001b[39m__setitem__\u001b[39;49m(k, v)\n\u001b[1;32m    691\u001b[0m     \u001b[39mself\u001b[39m\u001b[39m.\u001b[39m_metadata\u001b[39m.\u001b[39mobject_type \u001b[39m=\u001b[39m \u001b[39mdict\u001b[39m\n\u001b[1;32m    693\u001b[0m \u001b[39melse\u001b[39;00m:  \u001b[39m# pragma: no cover\u001b[39;00m\n",
      "File \u001b[0;32m~/.cache/pypoetry/virtualenvs/anomalib-cloud-wHtLq50J-py3.9/lib/python3.9/site-packages/omegaconf/dictconfig.py:314\u001b[0m, in \u001b[0;36mDictConfig.__setitem__\u001b[0;34m(self, key, value)\u001b[0m\n\u001b[1;32m    310\u001b[0m     \u001b[39mself\u001b[39m\u001b[39m.\u001b[39m_format_and_raise(\n\u001b[1;32m    311\u001b[0m         key\u001b[39m=\u001b[39mkey, value\u001b[39m=\u001b[39mvalue, type_override\u001b[39m=\u001b[39mConfigKeyError, cause\u001b[39m=\u001b[39me\n\u001b[1;32m    312\u001b[0m     )\n\u001b[1;32m    313\u001b[0m \u001b[39mexcept\u001b[39;00m \u001b[39mException\u001b[39;00m \u001b[39mas\u001b[39;00m e:\n\u001b[0;32m--> 314\u001b[0m     \u001b[39mself\u001b[39;49m\u001b[39m.\u001b[39;49m_format_and_raise(key\u001b[39m=\u001b[39;49mkey, value\u001b[39m=\u001b[39;49mvalue, cause\u001b[39m=\u001b[39;49me)\n",
      "File \u001b[0;32m~/.cache/pypoetry/virtualenvs/anomalib-cloud-wHtLq50J-py3.9/lib/python3.9/site-packages/omegaconf/base.py:231\u001b[0m, in \u001b[0;36mNode._format_and_raise\u001b[0;34m(self, key, value, cause, msg, type_override)\u001b[0m\n\u001b[1;32m    223\u001b[0m \u001b[39mdef\u001b[39;00m \u001b[39m_format_and_raise\u001b[39m(\n\u001b[1;32m    224\u001b[0m     \u001b[39mself\u001b[39m,\n\u001b[1;32m    225\u001b[0m     key: Any,\n\u001b[0;32m   (...)\u001b[0m\n\u001b[1;32m    229\u001b[0m     type_override: Any \u001b[39m=\u001b[39m \u001b[39mNone\u001b[39;00m,\n\u001b[1;32m    230\u001b[0m ) \u001b[39m-\u001b[39m\u001b[39m>\u001b[39m \u001b[39mNone\u001b[39;00m:\n\u001b[0;32m--> 231\u001b[0m     format_and_raise(\n\u001b[1;32m    232\u001b[0m         node\u001b[39m=\u001b[39;49m\u001b[39mself\u001b[39;49m,\n\u001b[1;32m    233\u001b[0m         key\u001b[39m=\u001b[39;49mkey,\n\u001b[1;32m    234\u001b[0m         value\u001b[39m=\u001b[39;49mvalue,\n\u001b[1;32m    235\u001b[0m         msg\u001b[39m=\u001b[39;49m\u001b[39mstr\u001b[39;49m(cause) \u001b[39mif\u001b[39;49;00m msg \u001b[39mis\u001b[39;49;00m \u001b[39mNone\u001b[39;49;00m \u001b[39melse\u001b[39;49;00m msg,\n\u001b[1;32m    236\u001b[0m         cause\u001b[39m=\u001b[39;49mcause,\n\u001b[1;32m    237\u001b[0m         type_override\u001b[39m=\u001b[39;49mtype_override,\n\u001b[1;32m    238\u001b[0m     )\n\u001b[1;32m    239\u001b[0m     \u001b[39massert\u001b[39;00m \u001b[39mFalse\u001b[39;00m\n",
      "File \u001b[0;32m~/.cache/pypoetry/virtualenvs/anomalib-cloud-wHtLq50J-py3.9/lib/python3.9/site-packages/omegaconf/_utils.py:819\u001b[0m, in \u001b[0;36mformat_and_raise\u001b[0;34m(node, key, value, msg, cause, type_override)\u001b[0m\n\u001b[1;32m    817\u001b[0m         ex \u001b[39m=\u001b[39m type_override(\u001b[39mstr\u001b[39m(cause))\n\u001b[1;32m    818\u001b[0m         ex\u001b[39m.\u001b[39m\u001b[39m__dict__\u001b[39m \u001b[39m=\u001b[39m copy\u001b[39m.\u001b[39mdeepcopy(cause\u001b[39m.\u001b[39m\u001b[39m__dict__\u001b[39m)\n\u001b[0;32m--> 819\u001b[0m     _raise(ex, cause)\n\u001b[1;32m    821\u001b[0m object_type: Optional[Type[Any]]\n\u001b[1;32m    822\u001b[0m object_type_str: Optional[\u001b[39mstr\u001b[39m] \u001b[39m=\u001b[39m \u001b[39mNone\u001b[39;00m\n",
      "File \u001b[0;32m~/.cache/pypoetry/virtualenvs/anomalib-cloud-wHtLq50J-py3.9/lib/python3.9/site-packages/omegaconf/_utils.py:797\u001b[0m, in \u001b[0;36m_raise\u001b[0;34m(ex, cause)\u001b[0m\n\u001b[1;32m    795\u001b[0m \u001b[39melse\u001b[39;00m:\n\u001b[1;32m    796\u001b[0m     ex\u001b[39m.\u001b[39m__cause__ \u001b[39m=\u001b[39m \u001b[39mNone\u001b[39;00m\n\u001b[0;32m--> 797\u001b[0m \u001b[39mraise\u001b[39;00m ex\u001b[39m.\u001b[39mwith_traceback(sys\u001b[39m.\u001b[39mexc_info()[\u001b[39m2\u001b[39m])\n",
      "File \u001b[0;32m~/.cache/pypoetry/virtualenvs/anomalib-cloud-wHtLq50J-py3.9/lib/python3.9/site-packages/omegaconf/dictconfig.py:308\u001b[0m, in \u001b[0;36mDictConfig.__setitem__\u001b[0;34m(self, key, value)\u001b[0m\n\u001b[1;32m    306\u001b[0m \u001b[39mdef\u001b[39;00m \u001b[39m__setitem__\u001b[39m(\u001b[39mself\u001b[39m, key: DictKeyType, value: Any) \u001b[39m-\u001b[39m\u001b[39m>\u001b[39m \u001b[39mNone\u001b[39;00m:\n\u001b[1;32m    307\u001b[0m     \u001b[39mtry\u001b[39;00m:\n\u001b[0;32m--> 308\u001b[0m         \u001b[39mself\u001b[39;49m\u001b[39m.\u001b[39;49m__set_impl(key\u001b[39m=\u001b[39;49mkey, value\u001b[39m=\u001b[39;49mvalue)\n\u001b[1;32m    309\u001b[0m     \u001b[39mexcept\u001b[39;00m \u001b[39mAttributeError\u001b[39;00m \u001b[39mas\u001b[39;00m e:\n\u001b[1;32m    310\u001b[0m         \u001b[39mself\u001b[39m\u001b[39m.\u001b[39m_format_and_raise(\n\u001b[1;32m    311\u001b[0m             key\u001b[39m=\u001b[39mkey, value\u001b[39m=\u001b[39mvalue, type_override\u001b[39m=\u001b[39mConfigKeyError, cause\u001b[39m=\u001b[39me\n\u001b[1;32m    312\u001b[0m         )\n",
      "File \u001b[0;32m~/.cache/pypoetry/virtualenvs/anomalib-cloud-wHtLq50J-py3.9/lib/python3.9/site-packages/omegaconf/dictconfig.py:318\u001b[0m, in \u001b[0;36mDictConfig.__set_impl\u001b[0;34m(self, key, value)\u001b[0m\n\u001b[1;32m    316\u001b[0m \u001b[39mdef\u001b[39;00m \u001b[39m__set_impl\u001b[39m(\u001b[39mself\u001b[39m, key: DictKeyType, value: Any) \u001b[39m-\u001b[39m\u001b[39m>\u001b[39m \u001b[39mNone\u001b[39;00m:\n\u001b[1;32m    317\u001b[0m     key \u001b[39m=\u001b[39m \u001b[39mself\u001b[39m\u001b[39m.\u001b[39m_validate_and_normalize_key(key)\n\u001b[0;32m--> 318\u001b[0m     \u001b[39mself\u001b[39;49m\u001b[39m.\u001b[39;49m_set_item_impl(key, value)\n",
      "File \u001b[0;32m~/.cache/pypoetry/virtualenvs/anomalib-cloud-wHtLq50J-py3.9/lib/python3.9/site-packages/omegaconf/basecontainer.py:620\u001b[0m, in \u001b[0;36mBaseContainer._set_item_impl\u001b[0;34m(self, key, value)\u001b[0m\n\u001b[1;32m    618\u001b[0m         assign(key, value)\n\u001b[1;32m    619\u001b[0m \u001b[39melse\u001b[39;00m:\n\u001b[0;32m--> 620\u001b[0m     \u001b[39mself\u001b[39;49m\u001b[39m.\u001b[39;49m_wrap_value_and_set(key, value, target_type_hint)\n",
      "File \u001b[0;32m~/.cache/pypoetry/virtualenvs/anomalib-cloud-wHtLq50J-py3.9/lib/python3.9/site-packages/omegaconf/basecontainer.py:636\u001b[0m, in \u001b[0;36mBaseContainer._wrap_value_and_set\u001b[0;34m(self, key, val, type_hint)\u001b[0m\n\u001b[1;32m    628\u001b[0m     wrapped \u001b[39m=\u001b[39m _maybe_wrap(\n\u001b[1;32m    629\u001b[0m         ref_type\u001b[39m=\u001b[39mref_type,\n\u001b[1;32m    630\u001b[0m         key\u001b[39m=\u001b[39mkey,\n\u001b[0;32m   (...)\u001b[0m\n\u001b[1;32m    633\u001b[0m         parent\u001b[39m=\u001b[39m\u001b[39mself\u001b[39m,\n\u001b[1;32m    634\u001b[0m     )\n\u001b[1;32m    635\u001b[0m \u001b[39mexcept\u001b[39;00m ValidationError \u001b[39mas\u001b[39;00m e:\n\u001b[0;32m--> 636\u001b[0m     \u001b[39mself\u001b[39;49m\u001b[39m.\u001b[39;49m_format_and_raise(key\u001b[39m=\u001b[39;49mkey, value\u001b[39m=\u001b[39;49mval, cause\u001b[39m=\u001b[39;49me)\n\u001b[1;32m    637\u001b[0m \u001b[39mself\u001b[39m\u001b[39m.\u001b[39m\u001b[39m__dict__\u001b[39m[\u001b[39m\"\u001b[39m\u001b[39m_content\u001b[39m\u001b[39m\"\u001b[39m][key] \u001b[39m=\u001b[39m wrapped\n",
      "File \u001b[0;32m~/.cache/pypoetry/virtualenvs/anomalib-cloud-wHtLq50J-py3.9/lib/python3.9/site-packages/omegaconf/base.py:231\u001b[0m, in \u001b[0;36mNode._format_and_raise\u001b[0;34m(self, key, value, cause, msg, type_override)\u001b[0m\n\u001b[1;32m    223\u001b[0m \u001b[39mdef\u001b[39;00m \u001b[39m_format_and_raise\u001b[39m(\n\u001b[1;32m    224\u001b[0m     \u001b[39mself\u001b[39m,\n\u001b[1;32m    225\u001b[0m     key: Any,\n\u001b[0;32m   (...)\u001b[0m\n\u001b[1;32m    229\u001b[0m     type_override: Any \u001b[39m=\u001b[39m \u001b[39mNone\u001b[39;00m,\n\u001b[1;32m    230\u001b[0m ) \u001b[39m-\u001b[39m\u001b[39m>\u001b[39m \u001b[39mNone\u001b[39;00m:\n\u001b[0;32m--> 231\u001b[0m     format_and_raise(\n\u001b[1;32m    232\u001b[0m         node\u001b[39m=\u001b[39;49m\u001b[39mself\u001b[39;49m,\n\u001b[1;32m    233\u001b[0m         key\u001b[39m=\u001b[39;49mkey,\n\u001b[1;32m    234\u001b[0m         value\u001b[39m=\u001b[39;49mvalue,\n\u001b[1;32m    235\u001b[0m         msg\u001b[39m=\u001b[39;49m\u001b[39mstr\u001b[39;49m(cause) \u001b[39mif\u001b[39;49;00m msg \u001b[39mis\u001b[39;49;00m \u001b[39mNone\u001b[39;49;00m \u001b[39melse\u001b[39;49;00m msg,\n\u001b[1;32m    236\u001b[0m         cause\u001b[39m=\u001b[39;49mcause,\n\u001b[1;32m    237\u001b[0m         type_override\u001b[39m=\u001b[39;49mtype_override,\n\u001b[1;32m    238\u001b[0m     )\n\u001b[1;32m    239\u001b[0m     \u001b[39massert\u001b[39;00m \u001b[39mFalse\u001b[39;00m\n",
      "File \u001b[0;32m~/.cache/pypoetry/virtualenvs/anomalib-cloud-wHtLq50J-py3.9/lib/python3.9/site-packages/omegaconf/_utils.py:899\u001b[0m, in \u001b[0;36mformat_and_raise\u001b[0;34m(node, key, value, msg, cause, type_override)\u001b[0m\n\u001b[1;32m    896\u001b[0m     ex\u001b[39m.\u001b[39mref_type \u001b[39m=\u001b[39m ref_type\n\u001b[1;32m    897\u001b[0m     ex\u001b[39m.\u001b[39mref_type_str \u001b[39m=\u001b[39m ref_type_str\n\u001b[0;32m--> 899\u001b[0m _raise(ex, cause)\n",
      "File \u001b[0;32m~/.cache/pypoetry/virtualenvs/anomalib-cloud-wHtLq50J-py3.9/lib/python3.9/site-packages/omegaconf/_utils.py:797\u001b[0m, in \u001b[0;36m_raise\u001b[0;34m(ex, cause)\u001b[0m\n\u001b[1;32m    795\u001b[0m \u001b[39melse\u001b[39;00m:\n\u001b[1;32m    796\u001b[0m     ex\u001b[39m.\u001b[39m__cause__ \u001b[39m=\u001b[39m \u001b[39mNone\u001b[39;00m\n\u001b[0;32m--> 797\u001b[0m \u001b[39mraise\u001b[39;00m ex\u001b[39m.\u001b[39mwith_traceback(sys\u001b[39m.\u001b[39mexc_info()[\u001b[39m2\u001b[39m])\n",
      "File \u001b[0;32m~/.cache/pypoetry/virtualenvs/anomalib-cloud-wHtLq50J-py3.9/lib/python3.9/site-packages/omegaconf/basecontainer.py:628\u001b[0m, in \u001b[0;36mBaseContainer._wrap_value_and_set\u001b[0;34m(self, key, val, type_hint)\u001b[0m\n\u001b[1;32m    625\u001b[0m is_optional, ref_type \u001b[39m=\u001b[39m _resolve_optional(type_hint)\n\u001b[1;32m    627\u001b[0m \u001b[39mtry\u001b[39;00m:\n\u001b[0;32m--> 628\u001b[0m     wrapped \u001b[39m=\u001b[39m _maybe_wrap(\n\u001b[1;32m    629\u001b[0m         ref_type\u001b[39m=\u001b[39;49mref_type,\n\u001b[1;32m    630\u001b[0m         key\u001b[39m=\u001b[39;49mkey,\n\u001b[1;32m    631\u001b[0m         value\u001b[39m=\u001b[39;49mval,\n\u001b[1;32m    632\u001b[0m         is_optional\u001b[39m=\u001b[39;49mis_optional,\n\u001b[1;32m    633\u001b[0m         parent\u001b[39m=\u001b[39;49m\u001b[39mself\u001b[39;49m,\n\u001b[1;32m    634\u001b[0m     )\n\u001b[1;32m    635\u001b[0m \u001b[39mexcept\u001b[39;00m ValidationError \u001b[39mas\u001b[39;00m e:\n\u001b[1;32m    636\u001b[0m     \u001b[39mself\u001b[39m\u001b[39m.\u001b[39m_format_and_raise(key\u001b[39m=\u001b[39mkey, value\u001b[39m=\u001b[39mval, cause\u001b[39m=\u001b[39me)\n",
      "File \u001b[0;32m~/.cache/pypoetry/virtualenvs/anomalib-cloud-wHtLq50J-py3.9/lib/python3.9/site-packages/omegaconf/omegaconf.py:1105\u001b[0m, in \u001b[0;36m_maybe_wrap\u001b[0;34m(ref_type, key, value, is_optional, parent)\u001b[0m\n\u001b[1;32m   1103\u001b[0m     \u001b[39mreturn\u001b[39;00m value\n\u001b[1;32m   1104\u001b[0m \u001b[39melse\u001b[39;00m:\n\u001b[0;32m-> 1105\u001b[0m     \u001b[39mreturn\u001b[39;00m _node_wrap(\n\u001b[1;32m   1106\u001b[0m         ref_type\u001b[39m=\u001b[39;49mref_type,\n\u001b[1;32m   1107\u001b[0m         parent\u001b[39m=\u001b[39;49mparent,\n\u001b[1;32m   1108\u001b[0m         is_optional\u001b[39m=\u001b[39;49mis_optional,\n\u001b[1;32m   1109\u001b[0m         value\u001b[39m=\u001b[39;49mvalue,\n\u001b[1;32m   1110\u001b[0m         key\u001b[39m=\u001b[39;49mkey,\n\u001b[1;32m   1111\u001b[0m     )\n",
      "File \u001b[0;32m~/.cache/pypoetry/virtualenvs/anomalib-cloud-wHtLq50J-py3.9/lib/python3.9/site-packages/omegaconf/omegaconf.py:1045\u001b[0m, in \u001b[0;36m_node_wrap\u001b[0;34m(parent, is_optional, value, key, ref_type)\u001b[0m\n\u001b[1;32m   1037\u001b[0m     node \u001b[39m=\u001b[39m UnionNode(\n\u001b[1;32m   1038\u001b[0m         content\u001b[39m=\u001b[39mvalue,\n\u001b[1;32m   1039\u001b[0m         ref_type\u001b[39m=\u001b[39mref_type,\n\u001b[0;32m   (...)\u001b[0m\n\u001b[1;32m   1042\u001b[0m         parent\u001b[39m=\u001b[39mparent,\n\u001b[1;32m   1043\u001b[0m     )\n\u001b[1;32m   1044\u001b[0m \u001b[39melif\u001b[39;00m ref_type \u001b[39m==\u001b[39m Any \u001b[39mor\u001b[39;00m ref_type \u001b[39mis\u001b[39;00m \u001b[39mNone\u001b[39;00m:\n\u001b[0;32m-> 1045\u001b[0m     node \u001b[39m=\u001b[39m AnyNode(value\u001b[39m=\u001b[39;49mvalue, key\u001b[39m=\u001b[39;49mkey, parent\u001b[39m=\u001b[39;49mparent)\n\u001b[1;32m   1046\u001b[0m \u001b[39melif\u001b[39;00m \u001b[39misinstance\u001b[39m(ref_type, \u001b[39mtype\u001b[39m) \u001b[39mand\u001b[39;00m \u001b[39missubclass\u001b[39m(ref_type, Enum):\n\u001b[1;32m   1047\u001b[0m     node \u001b[39m=\u001b[39m EnumNode(\n\u001b[1;32m   1048\u001b[0m         enum_type\u001b[39m=\u001b[39mref_type,\n\u001b[1;32m   1049\u001b[0m         value\u001b[39m=\u001b[39mvalue,\n\u001b[0;32m   (...)\u001b[0m\n\u001b[1;32m   1052\u001b[0m         is_optional\u001b[39m=\u001b[39mis_optional,\n\u001b[1;32m   1053\u001b[0m     )\n",
      "File \u001b[0;32m~/.cache/pypoetry/virtualenvs/anomalib-cloud-wHtLq50J-py3.9/lib/python3.9/site-packages/omegaconf/nodes.py:135\u001b[0m, in \u001b[0;36mAnyNode.__init__\u001b[0;34m(self, value, key, parent, flags)\u001b[0m\n\u001b[1;32m    128\u001b[0m \u001b[39mdef\u001b[39;00m \u001b[39m__init__\u001b[39m(\n\u001b[1;32m    129\u001b[0m     \u001b[39mself\u001b[39m,\n\u001b[1;32m    130\u001b[0m     value: Any \u001b[39m=\u001b[39m \u001b[39mNone\u001b[39;00m,\n\u001b[0;32m   (...)\u001b[0m\n\u001b[1;32m    133\u001b[0m     flags: Optional[Dict[\u001b[39mstr\u001b[39m, \u001b[39mbool\u001b[39m]] \u001b[39m=\u001b[39m \u001b[39mNone\u001b[39;00m,\n\u001b[1;32m    134\u001b[0m ):\n\u001b[0;32m--> 135\u001b[0m     \u001b[39msuper\u001b[39;49m()\u001b[39m.\u001b[39;49m\u001b[39m__init__\u001b[39;49m(\n\u001b[1;32m    136\u001b[0m         parent\u001b[39m=\u001b[39;49mparent,\n\u001b[1;32m    137\u001b[0m         value\u001b[39m=\u001b[39;49mvalue,\n\u001b[1;32m    138\u001b[0m         metadata\u001b[39m=\u001b[39;49mMetadata(\n\u001b[1;32m    139\u001b[0m             ref_type\u001b[39m=\u001b[39;49mAny, object_type\u001b[39m=\u001b[39;49m\u001b[39mNone\u001b[39;49;00m, key\u001b[39m=\u001b[39;49mkey, optional\u001b[39m=\u001b[39;49m\u001b[39mTrue\u001b[39;49;00m, flags\u001b[39m=\u001b[39;49mflags\n\u001b[1;32m    140\u001b[0m         ),\n\u001b[1;32m    141\u001b[0m     )\n",
      "File \u001b[0;32m~/.cache/pypoetry/virtualenvs/anomalib-cloud-wHtLq50J-py3.9/lib/python3.9/site-packages/omegaconf/nodes.py:29\u001b[0m, in \u001b[0;36mValueNode.__init__\u001b[0;34m(self, parent, value, metadata)\u001b[0m\n\u001b[1;32m     27\u001b[0m \u001b[39msuper\u001b[39m()\u001b[39m.\u001b[39m\u001b[39m__init__\u001b[39m(parent\u001b[39m=\u001b[39mparent, metadata\u001b[39m=\u001b[39mmetadata)\n\u001b[1;32m     28\u001b[0m \u001b[39mwith\u001b[39;00m read_write(\u001b[39mself\u001b[39m):\n\u001b[0;32m---> 29\u001b[0m     \u001b[39mself\u001b[39;49m\u001b[39m.\u001b[39;49m_set_value(value)\n",
      "File \u001b[0;32m~/.cache/pypoetry/virtualenvs/anomalib-cloud-wHtLq50J-py3.9/lib/python3.9/site-packages/omegaconf/nodes.py:46\u001b[0m, in \u001b[0;36mValueNode._set_value\u001b[0;34m(self, value, flags)\u001b[0m\n\u001b[1;32m     44\u001b[0m     \u001b[39mself\u001b[39m\u001b[39m.\u001b[39m_val \u001b[39m=\u001b[39m value\n\u001b[1;32m     45\u001b[0m \u001b[39melse\u001b[39;00m:\n\u001b[0;32m---> 46\u001b[0m     \u001b[39mself\u001b[39m\u001b[39m.\u001b[39m_val \u001b[39m=\u001b[39m \u001b[39mself\u001b[39;49m\u001b[39m.\u001b[39;49mvalidate_and_convert(value)\n",
      "File \u001b[0;32m~/.cache/pypoetry/virtualenvs/anomalib-cloud-wHtLq50J-py3.9/lib/python3.9/site-packages/omegaconf/nodes.py:76\u001b[0m, in \u001b[0;36mValueNode.validate_and_convert\u001b[0;34m(self, value)\u001b[0m\n\u001b[1;32m     74\u001b[0m     \u001b[39mreturn\u001b[39;00m value\n\u001b[1;32m     75\u001b[0m \u001b[39melse\u001b[39;00m:\n\u001b[0;32m---> 76\u001b[0m     \u001b[39mreturn\u001b[39;00m \u001b[39mself\u001b[39;49m\u001b[39m.\u001b[39;49m_validate_and_convert_impl(value)\n",
      "File \u001b[0;32m~/.cache/pypoetry/virtualenvs/anomalib-cloud-wHtLq50J-py3.9/lib/python3.9/site-packages/omegaconf/nodes.py:154\u001b[0m, in \u001b[0;36mAnyNode._validate_and_convert_impl\u001b[0;34m(self, value)\u001b[0m\n\u001b[1;32m    150\u001b[0m \u001b[39mif\u001b[39;00m \u001b[39mself\u001b[39m\u001b[39m.\u001b[39m_get_flag(\n\u001b[1;32m    151\u001b[0m     \u001b[39m\"\u001b[39m\u001b[39mallow_objects\u001b[39m\u001b[39m\"\u001b[39m\n\u001b[1;32m    152\u001b[0m ) \u001b[39mis\u001b[39;00m \u001b[39mnot\u001b[39;00m \u001b[39mTrue\u001b[39;00m \u001b[39mand\u001b[39;00m \u001b[39mnot\u001b[39;00m is_primitive_type_annotation(value):\n\u001b[1;32m    153\u001b[0m     t \u001b[39m=\u001b[39m get_type_of(value)\n\u001b[0;32m--> 154\u001b[0m     \u001b[39mraise\u001b[39;00m UnsupportedValueType(\n\u001b[1;32m    155\u001b[0m         \u001b[39mf\u001b[39m\u001b[39m\"\u001b[39m\u001b[39mValue \u001b[39m\u001b[39m'\u001b[39m\u001b[39m{\u001b[39;00mt\u001b[39m.\u001b[39m\u001b[39m__name__\u001b[39m\u001b[39m}\u001b[39;00m\u001b[39m'\u001b[39m\u001b[39m is not a supported primitive type\u001b[39m\u001b[39m\"\u001b[39m\n\u001b[1;32m    156\u001b[0m     )\n\u001b[1;32m    157\u001b[0m \u001b[39mreturn\u001b[39;00m value\n",
      "\u001b[0;31mUnsupportedValueType\u001b[0m: Value 'ExampleClass' is not a supported primitive type\n    full_key: class\n    object_type=dict"
     ]
    }
   ],
   "source": [
    "file_text = \"\"\"\\\n",
    "class: !import:example_module.ExampleClass\n",
    "\"\"\"\n",
    "my_class = yamx.loads(file_text)[\"class\"]\n",
    "my_class.text"
   ]
  },
  {
   "attachments": {},
   "cell_type": "markdown",
   "metadata": {},
   "source": [
    "## Tag: !init\n",
    "\n",
    "Initialize a Python class with arguments and keyword arguments. Each argument or keyword argument must be provided as a list entry.\n",
    "\n",
    "The examples below will initialize the `ExampleClass` defined in the `module.py` that was created for the [!import](##tag:-!import) example.\n",
    "\n",
    "### Example 1: Default Initialization of a Class"
   ]
  },
  {
   "cell_type": "code",
   "execution_count": null,
   "metadata": {},
   "outputs": [],
   "source": [
    "file_text = \"\"\"\\\n",
    "class: !init:example_module.ExampleClass\n",
    "\"\"\"\n",
    "my_class = yamx.loads(file_text)[\"class\"]\n",
    "my_class.text"
   ]
  },
  {
   "attachments": {},
   "cell_type": "markdown",
   "metadata": {},
   "source": [
    "### Example 2: Initialization with Arguments"
   ]
  },
  {
   "cell_type": "code",
   "execution_count": null,
   "metadata": {},
   "outputs": [],
   "source": [
    "file_text = \"\"\"\\\n",
    "class: !init:example_module.ExampleClass\n",
    "- arg0\n",
    "- arg1\n",
    "- kwarg0: 0\n",
    "- kwarg1: 1\n",
    "\"\"\"\n",
    "my_class = yamx.loads(file_text)[\"class\"]\n",
    "my_class.text"
   ]
  },
  {
   "attachments": {},
   "cell_type": "markdown",
   "metadata": {},
   "source": [
    "## Tag: !chain with !call\n",
    "\n",
    "Consecutive calls on a class can be chained with this tag."
   ]
  },
  {
   "cell_type": "code",
   "execution_count": null,
   "metadata": {},
   "outputs": [],
   "source": [
    "file_text = \"\"\"\\\n",
    "class:\n",
    "  !chain\n",
    "  - !init:example_module.ExampleClass  # 1. initialize\n",
    "  - !call:set_value                    # 2. set a value\n",
    "    - 123\n",
    "  - !call:value                        # 3. access the value\n",
    "\"\"\"\n",
    "my_class = yamx.loads(file_text)[\"class\"]\n",
    "my_class.text"
   ]
  },
  {
   "attachments": {},
   "cell_type": "markdown",
   "metadata": {},
   "source": [
    "Use the `!import` tag together with `!chain` and `!call` to use class methods, i.e., methods that do not need an initialized class."
   ]
  },
  {
   "cell_type": "code",
   "execution_count": null,
   "metadata": {},
   "outputs": [],
   "source": [
    "file_text = \"\"\"\\\n",
    "class:\n",
    "  !chain\n",
    "  - !import:example_module.ExampleClass\n",
    "  - !call:from_example\n",
    "    - 123\n",
    "\"\"\"\n",
    "my_class = yamx.loads(file_text)[\"class\"]\n",
    "my_class.text"
   ]
  },
  {
   "attachments": {},
   "cell_type": "markdown",
   "metadata": {},
   "source": [
    "## Tag: !and, !or, and !xor\n",
    "\n",
    "Apply binary operation on sequence"
   ]
  },
  {
   "cell_type": "code",
   "execution_count": 7,
   "metadata": {},
   "outputs": [
    {
     "name": "stdout",
     "output_type": "stream",
     "text": [
      "and: 1000\n",
      "or: 1110\n",
      "xor: 0110\n"
     ]
    }
   ],
   "source": [
    "file_text = \"\"\"\\\n",
    "and: !and\n",
    "  - 0b1010\n",
    "  - 0b1100\n",
    "or: !or\n",
    "  - 0b1010\n",
    "  - 0b1100\n",
    "xor: !xor\n",
    "  - 0b1010\n",
    "  - 0b1100\n",
    "\"\"\"\n",
    "for key, val in yamx.loads(file_text).items():\n",
    "    print(f\"{key}: {val:04b}\")"
   ]
  },
  {
   "attachments": {},
   "cell_type": "markdown",
   "metadata": {},
   "source": [
    "## Decorators"
   ]
  },
  {
   "cell_type": "code",
   "execution_count": 1,
   "metadata": {},
   "outputs": [
    {
     "name": "stdout",
     "output_type": "stream",
     "text": [
      "cfg = {'value': 123, 'list': [0, [1, 2]]}\n"
     ]
    }
   ],
   "source": [
    "from pathlib import Path\n",
    "import sys\n",
    "sys.path.insert(0, str(Path(\"..\").resolve()))\n",
    "from yamx.decorators import load\n",
    "\n",
    "@load(\"constants.yaml\")\n",
    "def test(cfg):\n",
    "    print(\"cfg =\", cfg)\n",
    "\n",
    "test()"
   ]
  },
  {
   "cell_type": "code",
   "execution_count": null,
   "metadata": {},
   "outputs": [],
   "source": []
  }
 ],
 "metadata": {
  "kernelspec": {
   "display_name": "yates-wlmZJSG8-py3.9",
   "language": "python",
   "name": "python3"
  },
  "language_info": {
   "codemirror_mode": {
    "name": "ipython",
    "version": 3
   },
   "file_extension": ".py",
   "mimetype": "text/x-python",
   "name": "python",
   "nbconvert_exporter": "python",
   "pygments_lexer": "ipython3",
   "version": "3.9.16"
  },
  "orig_nbformat": 4,
  "vscode": {
   "interpreter": {
    "hash": "2e1855b52689babcb0feb798d63392c10492ef580cf78cfe8f83a73f472d4ff3"
   }
  }
 },
 "nbformat": 4,
 "nbformat_minor": 2
}
